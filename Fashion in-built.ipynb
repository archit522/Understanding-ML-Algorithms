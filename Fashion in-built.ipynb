{
 "cells": [
  {
   "cell_type": "code",
   "execution_count": 2,
   "metadata": {},
   "outputs": [],
   "source": [
    "from numpy import mean\n",
    "from numpy import cov\n",
    "from numpy.linalg import eig\n",
    "from numpy import array\n",
    "from sklearn.decomposition import PCA\n",
    "from sklearn.preprocessing import StandardScaler\n",
    "from sklearn.naive_bayes import GaussianNB\n",
    "from sklearn.cluster import KMeans\n",
    "from sklearn.neighbors import KNeighborsClassifier\n",
    "import math\n",
    "import operator\n",
    "import tensorflow as tf\n",
    "\n",
    "import numpy as np\n",
    "import matplotlib.pyplot as plt"
   ]
  },
  {
   "cell_type": "code",
   "execution_count": 3,
   "metadata": {
    "collapsed": true
   },
   "outputs": [],
   "source": [
    "# Load the fashion-mnist pre-shuffled train data and test data\n",
    "(x_train, y_train), (x_test, y_test) = tf.keras.datasets.fashion_mnist.load_data()"
   ]
  },
  {
   "cell_type": "code",
   "execution_count": 4,
   "metadata": {},
   "outputs": [
    {
     "name": "stdout",
     "output_type": "stream",
     "text": [
      "('x_train shape:', (60000, 28, 28), 'y_train shape:', (60000,))\n"
     ]
    }
   ],
   "source": [
    "print(\"x_train shape:\", x_train.shape, \"y_train shape:\", y_train.shape)"
   ]
  },
  {
   "cell_type": "code",
   "execution_count": 5,
   "metadata": {},
   "outputs": [
    {
     "name": "stdout",
     "output_type": "stream",
     "text": [
      "('x_test shape:', (10000, 28, 28), 'y_test shape:', (10000,))\n"
     ]
    }
   ],
   "source": [
    "print(\"x_test shape:\", x_test.shape, \"y_test shape:\", y_test.shape)"
   ]
  },
  {
   "cell_type": "code",
   "execution_count": 6,
   "metadata": {
    "collapsed": true
   },
   "outputs": [],
   "source": [
    "x_train = x_train.astype('float32') / 255\n",
    "x_test = x_test.astype('float32') / 255"
   ]
  },
  {
   "cell_type": "code",
   "execution_count": 7,
   "metadata": {
    "collapsed": true
   },
   "outputs": [],
   "source": [
    "x_train_flat = x_train.flatten().reshape(60000, 784)\n",
    "x_test_flat = x_test.flatten().reshape(10000, 784)\n",
    "scaler = StandardScaler()\n",
    "scaler.fit(x_train_flat)\n",
    "x_train_flat = scaler.transform(x_train_flat)\n",
    "x_test_flat = scaler.transform(x_test_flat)"
   ]
  },
  {
   "cell_type": "code",
   "execution_count": 8,
   "metadata": {
    "scrolled": true
   },
   "outputs": [
    {
     "name": "stdout",
     "output_type": "stream",
     "text": [
      "[[-0.00864401 -0.02322872 -0.03920663 ..., -0.15683427 -0.08967583\n",
      "  -0.03415714]\n",
      " [-0.00864401 -0.02322872 -0.03920663 ..., -0.15683427 -0.08967583\n",
      "  -0.03415714]\n",
      " [-0.00864401 -0.02322872 -0.03920663 ..., -0.15683427 -0.08967583\n",
      "  -0.03415714]\n",
      " ..., \n",
      " [-0.00864401 -0.02322872 -0.03920663 ..., -0.15683427 -0.08967583\n",
      "  -0.03415714]\n",
      " [-0.00864401 -0.02322872 -0.03920663 ..., -0.15683427 -0.08967583\n",
      "  -0.03415714]\n",
      " [-0.00864401 -0.02322872 -0.03920663 ..., -0.15683427 -0.08967583\n",
      "  -0.03415714]]\n",
      "[[  1.78232338e-04   1.02320313e-03   2.18832493e-03 ...,   6.32792432e-03\n",
      "    1.63296808e-03   7.79547321e-04]\n",
      " [ -1.04621568e-05   1.60528126e-03   1.39608979e-03 ...,   1.39374426e-02\n",
      "    9.55539942e-03   4.30302834e-03]\n",
      " [  3.33676348e-04   9.04254615e-04   2.78005004e-03 ...,   9.45950300e-03\n",
      "   -1.29428110e-03  -9.09442955e-04]\n",
      " ..., \n",
      " [  2.73798662e-03  -1.97118800e-03  -1.00557983e-03 ...,   4.29715887e-02\n",
      "   -1.30891390e-02   8.10030941e-03]\n",
      " [ -2.82589288e-04   3.45363235e-03  -8.70425906e-03 ...,  -5.12376837e-02\n",
      "    1.71054676e-02  -7.18632760e-03]\n",
      " [  5.15673216e-03  -8.38612672e-03   1.30131980e-02 ...,  -4.61800843e-02\n",
      "    3.44337672e-02  -2.45653465e-03]]\n",
      "[  1.73138916e+02   1.13013451e+02   4.28166161e+01   3.98959618e+01\n",
      "   3.17906322e+01   2.36734886e+01   2.15414429e+01   1.81396503e+01\n",
      "   1.32704964e+01   1.03339720e+01   9.17400742e+00   7.54530334e+00\n",
      "   7.10703468e+00   6.75064754e+00   5.82568598e+00   5.72584820e+00\n",
      "   5.18657303e+00   4.95117188e+00   4.87608862e+00   4.58109474e+00\n",
      "   4.10369205e+00   4.00724936e+00   3.71258068e+00   3.52873349e+00\n",
      "   3.43953753e+00   3.27009511e+00   3.12307835e+00   3.06201434e+00\n",
      "   2.96105504e+00   2.92854404e+00   2.84705400e+00   2.75677419e+00\n",
      "   2.63476014e+00   2.59453416e+00   2.57198739e+00   2.48924828e+00\n",
      "   2.39296722e+00   2.32599688e+00   2.23214388e+00   2.21947503e+00\n",
      "   2.16067767e+00   2.10235500e+00   2.05722094e+00   1.99549282e+00\n",
      "   1.94067919e+00   1.88359213e+00   1.86574972e+00   1.79049218e+00\n",
      "   1.74103594e+00   1.69396544e+00   1.65007758e+00   1.62441349e+00\n",
      "   1.59069645e+00   1.57277131e+00   1.55912530e+00   1.52206135e+00\n",
      "   1.47814941e+00   1.44987977e+00   1.41430068e+00   1.38677883e+00\n",
      "   1.37070382e+00   1.34332466e+00   1.32734168e+00   1.28288901e+00\n",
      "   1.26243985e+00   1.25171399e+00   1.20556176e+00   1.18246603e+00\n",
      "   1.16569984e+00   1.14614069e+00   1.14214444e+00   1.12220681e+00\n",
      "   1.10432196e+00   1.08764076e+00   1.07069719e+00   1.06441247e+00\n",
      "   1.05325997e+00   1.02375829e+00   1.01330733e+00   9.91617620e-01\n",
      "   9.85045791e-01   9.60883021e-01   9.46340144e-01   9.40219939e-01\n",
      "   9.11476910e-01   8.90633881e-01   8.79871249e-01   8.76967669e-01\n",
      "   8.67110312e-01   8.58690083e-01   8.44083250e-01   8.37214231e-01\n",
      "   8.26348186e-01   8.18751812e-01   7.98359811e-01   7.85968900e-01\n",
      "   7.74284124e-01   7.68710852e-01   7.56927013e-01   7.48428285e-01\n",
      "   7.43963480e-01   7.35136271e-01   7.26244569e-01   7.16240108e-01\n",
      "   7.12982178e-01   7.02985466e-01   6.96463585e-01   6.89665318e-01\n",
      "   6.78052604e-01   6.68512642e-01   6.63003385e-01   6.57727242e-01\n",
      "   6.48310304e-01   6.35951579e-01   6.30986452e-01   6.25336349e-01\n",
      "   6.21191084e-01   6.19986296e-01   6.09394908e-01   6.05531752e-01\n",
      "   6.01112008e-01   5.92591047e-01   5.90421379e-01   5.82139432e-01\n",
      "   5.75804532e-01   5.68325877e-01   5.63949108e-01   5.58196127e-01\n",
      "   5.51407635e-01   5.49442410e-01   5.43360114e-01   5.37707329e-01\n",
      "   5.30601978e-01   5.23954570e-01   5.16093731e-01   5.12733161e-01\n",
      "   5.01585782e-01   4.99841720e-01   4.97402072e-01   4.94294673e-01\n",
      "   4.88495231e-01   4.85001206e-01   4.77247745e-01   4.73052144e-01\n",
      "   4.68918175e-01   4.63670164e-01   4.60157245e-01   4.56760794e-01\n",
      "   4.54653412e-01   4.49337512e-01   4.47094560e-01   4.43456024e-01\n",
      "   4.42385167e-01   4.36067998e-01   4.30805445e-01   4.25879210e-01\n",
      "   4.22118247e-01   4.21827674e-01   4.19726759e-01   4.13013250e-01\n",
      "   4.11493987e-01   4.09658134e-01   4.03490722e-01   4.01135325e-01\n",
      "   3.97744805e-01   3.93754750e-01   3.89146954e-01   3.87562394e-01\n",
      "   3.84903044e-01   3.81097615e-01   3.77057880e-01   3.75960797e-01\n",
      "   3.72169018e-01   3.71401370e-01   3.67667437e-01   3.64740551e-01\n",
      "   3.62739861e-01   3.59839261e-01   3.59075129e-01   3.54246765e-01\n",
      "   3.52838039e-01   3.48336726e-01   3.45990390e-01   3.44715536e-01\n",
      "   3.43105525e-01   3.39872241e-01   3.32363546e-01   3.30660284e-01\n",
      "   3.27016115e-01   3.25249970e-01   3.24228019e-01   3.20919216e-01\n",
      "   3.19911659e-01   3.18969190e-01   3.15765291e-01   3.13210756e-01\n",
      "   3.08968425e-01   3.07736158e-01   3.06417406e-01   3.05872560e-01\n",
      "   3.01874816e-01   3.01133126e-01   2.98542976e-01   2.97106624e-01\n",
      "   2.93715209e-01   2.90262252e-01   2.88411051e-01   2.88025469e-01\n",
      "   2.84618437e-01   2.82914579e-01   2.81919718e-01   2.80961186e-01\n",
      "   2.80418158e-01   2.76463985e-01   2.75026113e-01   2.72735238e-01\n",
      "   2.70709097e-01   2.69023716e-01   2.68404156e-01   2.66263932e-01\n",
      "   2.64024913e-01   2.63136536e-01   2.62069046e-01   2.60906100e-01\n",
      "   2.58209109e-01   2.56091654e-01   2.55244851e-01   2.53326833e-01\n",
      "   2.51985192e-01   2.51058429e-01   2.47675464e-01   2.46545896e-01\n",
      "   2.45230943e-01   2.43748441e-01   2.42919534e-01   2.41783932e-01\n",
      "   2.40876511e-01   2.38037571e-01   2.35722214e-01   2.34659821e-01\n",
      "   2.34153911e-01   2.32070535e-01   2.30668634e-01   2.29915023e-01\n",
      "   2.27552310e-01   2.24774092e-01   2.24471137e-01   2.22227395e-01\n",
      "   2.21248090e-01   2.20272109e-01   2.19900876e-01   2.19271779e-01\n",
      "   2.17300385e-01   2.15206012e-01   2.14260802e-01   2.12590456e-01\n",
      "   2.11075470e-01   2.09758967e-01   2.08748013e-01   2.08307534e-01\n",
      "   2.07194373e-01   2.05263525e-01   2.03584477e-01   2.02852041e-01\n",
      "   2.02608868e-01   2.02192381e-01   2.00775787e-01   1.99546978e-01\n",
      "   1.98122814e-01   1.97555229e-01   1.96485922e-01   1.95201486e-01\n",
      "   1.93362966e-01   1.93282783e-01   1.92079395e-01   1.90955281e-01\n",
      "   1.89616308e-01   1.89417109e-01   1.87980652e-01   1.87105268e-01\n",
      "   1.86370999e-01   1.85667992e-01   1.84194252e-01   1.83344379e-01\n",
      "   1.82108253e-01   1.81340635e-01   1.79590881e-01   1.78382397e-01\n",
      "   1.77951008e-01   1.77149221e-01   1.76617533e-01   1.76022753e-01\n",
      "   1.74229741e-01   1.73530802e-01   1.72938570e-01   1.72177017e-01\n",
      "   1.71267807e-01   1.70169100e-01   1.68811560e-01   1.68473288e-01\n",
      "   1.66802481e-01   1.66356236e-01   1.65478930e-01   1.64216921e-01\n",
      "   1.62910506e-01   1.62281498e-01   1.61713362e-01   1.61293849e-01\n",
      "   1.60299778e-01   1.59518853e-01   1.59102201e-01   1.57929748e-01\n",
      "   1.57577857e-01   1.55903026e-01   1.54968262e-01   1.54700413e-01\n",
      "   1.54249847e-01   1.53447419e-01   1.52432799e-01   1.51575729e-01\n",
      "   1.50798857e-01   1.49616301e-01   1.49460867e-01   1.48370415e-01\n",
      "   1.48102328e-01   1.46872625e-01   1.45789057e-01   1.45327047e-01\n",
      "   1.44064933e-01   1.43840522e-01   1.42044604e-01   1.41865343e-01\n",
      "   1.41685665e-01   1.40845641e-01   1.40251726e-01   1.39166966e-01\n",
      "   1.38339385e-01   1.37226164e-01   1.36400133e-01   1.35952830e-01\n",
      "   1.35407642e-01   1.34893715e-01   1.33897766e-01   1.33734837e-01\n",
      "   1.33279011e-01   1.32760525e-01   1.31308794e-01   1.31006777e-01\n",
      "   1.30074620e-01   1.29119799e-01   1.28485858e-01   1.28115565e-01\n",
      "   1.27664417e-01   1.27294153e-01   1.27025425e-01   1.26614273e-01\n",
      "   1.25396624e-01   1.25069886e-01   1.24315947e-01   1.23581067e-01\n",
      "   1.23113289e-01   1.23003654e-01   1.21799327e-01   1.20954379e-01\n",
      "   1.19942471e-01   1.19710661e-01   1.19015098e-01   1.18618697e-01\n",
      "   1.18240088e-01   1.17448054e-01   1.17208958e-01   1.16751343e-01\n",
      "   1.16218694e-01   1.15540937e-01   1.14332967e-01   1.14253215e-01\n",
      "   1.13882944e-01   1.13350421e-01   1.12478770e-01   1.12423524e-01\n",
      "   1.12062782e-01   1.11356109e-01   1.10974334e-01   1.10497661e-01\n",
      "   1.10383861e-01   1.09578989e-01   1.08860850e-01   1.08649783e-01\n",
      "   1.08628444e-01   1.07393071e-01   1.07272215e-01   1.06963143e-01\n",
      "   1.06209435e-01   1.05748221e-01   1.04858607e-01   1.04318753e-01\n",
      "   1.03771888e-01   1.03429921e-01   1.03254937e-01   1.02916002e-01\n",
      "   1.02343492e-01   1.01967447e-01   1.00778110e-01   1.00553565e-01\n",
      "   9.98245999e-02   9.92718935e-02   9.87339839e-02   9.82952192e-02\n",
      "   9.79238078e-02   9.75964889e-02   9.71620753e-02   9.68708768e-02\n",
      "   9.65235308e-02   9.59697068e-02   9.53231230e-02   9.51620489e-02\n",
      "   9.46592018e-02   9.43629742e-02   9.35734585e-02   9.33279544e-02]\n"
     ]
    },
    {
     "name": "stdout",
     "output_type": "stream",
     "text": [
      "[[ -8.00979614e-01   2.08666229e+01  -1.29454203e+01 ...,  -3.79480243e-01\n",
      "    7.09452510e-01  -4.05548453e-01]\n",
      " [  1.70740089e+01  -4.96962452e+00  -2.07752705e+00 ...,  -3.12923193e-01\n",
      "   -1.55033693e-01   2.46470645e-01]\n",
      " [ -9.60196877e+00  -1.22959366e+01   1.08263969e+00 ...,   2.78304890e-02\n",
      "    8.84708911e-02   9.43705291e-02]\n",
      " ..., \n",
      " [  9.37738419e+00  -1.31062469e+01  -8.83833218e+00 ...,   1.79755256e-01\n",
      "   -4.78208601e-01  -7.53951259e-03]\n",
      " [ -9.64590836e+00  -7.09520817e+00   6.94547415e+00 ...,  -6.54089525e-02\n",
      "    3.46744001e-01  -1.68325216e-01]\n",
      " [ -2.13172398e+01  -1.74086833e+00   5.47631407e+00 ...,   4.93285060e-01\n",
      "    7.41532147e-01  -2.28316754e-01]]\n",
      "[[ -1.67076759e+01   7.35965443e+00  -2.13990140e+00 ...,   5.80129027e-03\n",
      "   -2.94607699e-01   2.44143635e-01]\n",
      " [  2.23006058e+01   9.56057549e+00   1.06565828e+01 ...,  -1.44068897e-02\n",
      "    6.43315911e-02   4.92822707e-01]\n",
      " [  3.87145877e+00  -1.67812042e+01  -8.41484070e+00 ...,  -8.75075161e-02\n",
      "   -1.98165685e-01  -9.04334635e-02]\n",
      " ..., \n",
      " [ -7.00252247e+00  -8.46510601e+00   2.66591549e-01 ...,  -1.49771348e-01\n",
      "   -1.34069413e-01   3.15470815e-01]\n",
      " [ -2.90232229e+00  -1.53565435e+01  -7.56899309e+00 ...,   1.03121914e-01\n",
      "    3.30723435e-01   4.01499644e-02]\n",
      " [ -1.75188046e+01   1.52768254e-01   3.27345085e+00 ...,   3.71268213e-01\n",
      "   -9.98974591e-03   1.17459774e-01]]\n"
     ]
    }
   ],
   "source": [
    "# PCA with in-built library\n",
    "# define a matrix\n",
    "A = x_train_flat\n",
    "B = x_test_flat\n",
    "print(A)\n",
    "# create the PCA instance\n",
    "pca = PCA(0.98)\n",
    "# fit on data\n",
    "pca.fit(A)\n",
    "# access values and vectors\n",
    "print(pca.components_)\n",
    "print(pca.explained_variance_)\n",
    "# transform data\n",
    "C = pca.transform(A)\n",
    "D = pca.transform(B)\n",
    "print(C)\n",
    "print(D)\n",
    "x_train_final = C\n",
    "x_test_final = D"
   ]
  },
  {
   "cell_type": "code",
   "execution_count": 9,
   "metadata": {},
   "outputs": [
    {
     "name": "stdout",
     "output_type": "stream",
     "text": [
      "(60000, 420)\n",
      "(10000, 420)\n"
     ]
    }
   ],
   "source": [
    "print(x_train_final.shape)\n",
    "print(x_test_final.shape)"
   ]
  },
  {
   "cell_type": "code",
   "execution_count": 10,
   "metadata": {},
   "outputs": [
    {
     "data": {
      "text/plain": [
       "420"
      ]
     },
     "execution_count": 10,
     "metadata": {},
     "output_type": "execute_result"
    }
   ],
   "source": [
    "pca.n_components_"
   ]
  },
  {
   "cell_type": "code",
   "execution_count": 11,
   "metadata": {},
   "outputs": [
    {
     "name": "stdout",
     "output_type": "stream",
     "text": [
      "[7 8 1 ..., 4 1 7]\n",
      "[9 2 1 ..., 8 1 5]\n"
     ]
    }
   ],
   "source": [
    "model = GaussianNB()\n",
    "model.fit(x_train_final, y_train)\n",
    "predicted = model.predict(x_test_final)\n",
    "print(predicted)\n",
    "print(y_test)"
   ]
  },
  {
   "cell_type": "code",
   "execution_count": 12,
   "metadata": {},
   "outputs": [
    {
     "name": "stdout",
     "output_type": "stream",
     "text": [
      "5475\n"
     ]
    }
   ],
   "source": [
    "count = 0\n",
    "for i in range(10000):\n",
    "    if predicted[i] == y_test[i]:\n",
    "        count = count + 1\n",
    "print(count)"
   ]
  },
  {
   "cell_type": "code",
   "execution_count": 13,
   "metadata": {},
   "outputs": [
    {
     "name": "stdout",
     "output_type": "stream",
     "text": [
      "clusters\n"
     ]
    }
   ],
   "source": [
    "kmeans = KMeans(n_clusters = 10, random_state = 0).fit(x_train_final)\n",
    "print(\"clusters\")\n",
    "store_array = np.zeros((10, 10))\n",
    "for i in range(60000):\n",
    "    store_array[kmeans.labels_[i]][y_train[i]] = store_array[kmeans.labels_[i]][y_train[i]] + 1"
   ]
  },
  {
   "cell_type": "code",
   "execution_count": 14,
   "metadata": {},
   "outputs": [
    {
     "name": "stdout",
     "output_type": "stream",
     "text": [
      "[  1.19000000e+02   5.70000000e+01   3.52600000e+03   4.00000000e+01\n",
      "   3.52100000e+03   0.00000000e+00   1.87500000e+03   0.00000000e+00\n",
      "   1.34000000e+02   3.00000000e+00]\n",
      "(2, 3526.0)\n",
      "[  1.00000000e+00   0.00000000e+00   1.00000000e+00   0.00000000e+00\n",
      "   0.00000000e+00   2.50000000e+02   2.00000000e+00   1.60000000e+01\n",
      "   2.50000000e+01   2.05700000e+03]\n",
      "(9, 2057.0)\n",
      "[  1.94000000e+02   5.41900000e+03   9.00000000e+00   3.21300000e+03\n",
      "   1.83000000e+02   2.00000000e+00   5.80000000e+01   0.00000000e+00\n",
      "   1.90000000e+01   4.00000000e+00]\n",
      "(1, 5419.0)\n",
      "[  0.00000000e+00   0.00000000e+00   1.00000000e+00   1.00000000e+00\n",
      "   0.00000000e+00   4.15000000e+02   2.00000000e+00   6.33000000e+02\n",
      "   1.38000000e+02   3.46600000e+03]\n",
      "(9, 3466.0)\n",
      "[ 1672.   154.  1746.   651.  1077.    35.  2092.     0.   521.    52.]\n",
      "(6, 2092.0)\n",
      "[  3.42000000e+03   2.15000000e+02   1.31000000e+02   1.59900000e+03\n",
      "   9.11000000e+02   1.00000000e+00   1.09500000e+03   0.00000000e+00\n",
      "   4.20000000e+01   6.00000000e+00]\n",
      "(0, 3420.0)\n",
      "[   47.     5.    26.     0.     5.     0.    81.     0.  2125.     0.]\n",
      "(8, 2125.0)\n",
      "[  519.   150.   492.   494.   253.  3911.   753.   572.   395.   162.]\n",
      "(5, 3911.0)\n",
      "[  2.60000000e+01   0.00000000e+00   6.50000000e+01   2.00000000e+00\n",
      "   5.00000000e+01   1.20000000e+01   3.50000000e+01   0.00000000e+00\n",
      "   2.29700000e+03   0.00000000e+00]\n",
      "(8, 2297.0)\n",
      "[  2.00000000e+00   0.00000000e+00   3.00000000e+00   0.00000000e+00\n",
      "   0.00000000e+00   1.37400000e+03   7.00000000e+00   4.77900000e+03\n",
      "   3.04000000e+02   2.50000000e+02]\n",
      "(7, 4779.0)\n"
     ]
    }
   ],
   "source": [
    "for i in range(10):\n",
    "    print(store_array[i])\n",
    "    index, value = max(enumerate(store_array[i]), key=operator.itemgetter(1))\n",
    "    print(index, value)"
   ]
  },
  {
   "cell_type": "code",
   "execution_count": 26,
   "metadata": {},
   "outputs": [
    {
     "name": "stdout",
     "output_type": "stream",
     "text": [
      "(1, '/n', array([9, 2, 1, ..., 8, 1, 5], dtype=uint8))\n",
      "8451\n",
      "(2, '/n', array([9, 2, 1, ..., 8, 1, 5], dtype=uint8))\n",
      "8472\n",
      "(3, '/n', array([9, 2, 1, ..., 8, 1, 5], dtype=uint8))\n",
      "8529\n",
      "(4, '/n', array([9, 2, 1, ..., 8, 1, 5], dtype=uint8))\n",
      "8575\n"
     ]
    },
    {
     "data": {
      "image/png": "[encoded data removed]",
      "text/plain": [
       "<matplotlib.figure.Figure at 0x104cf6cd0>"
      ]
     },
     "metadata": {},
     "output_type": "display_data"
    }
   ],
   "source": [
    "#K Nearest Neighbors\n",
    "from __future__ import division\n",
    "store_x = range(1, 5)\n",
    "store_y = [0]*5\n",
    "for k in range(1, 5):\n",
    "    knn = KNeighborsClassifier(n_neighbors=k)\n",
    "    knn.fit(x_train_final, y_train)\n",
    "    prediction_list = knn.predict(x_test_final)\n",
    "    print(k, '/n', prediction_list)\n",
    "    count = 0\n",
    "    for i in range(len(prediction_list)):\n",
    "        if y_test[i] == prediction_list[i]:\n",
    "            count += 1\n",
    "    print(count)\n",
    "    store_y[k] = count\n",
    "plt.plot(store_x, store_y)\n",
    "plt.show()\n"
   ]
  },
  {
   "cell_type": "code",
   "execution_count": 16,
   "metadata": {},
   "outputs": [
    {
     "name": "stdout",
     "output_type": "stream",
     "text": [
      "8533\n"
     ]
    }
   ],
   "source": [
    "count = 0\n",
    "for i in range(len(prediction_list)):\n",
    "    if y_test[i] == prediction_list[i]:\n",
    "        count += 1\n",
    "print(count)"
   ]
  },
  {
   "cell_type": "code",
   "execution_count": 31,
   "metadata": {
    "scrolled": true
   },
   "outputs": [
    {
     "data": {
      "image/png": "[encoded data removed]",
      "text/plain": [
       "<matplotlib.figure.Figure at 0x1a19449390>"
      ]
     },
     "metadata": {},
     "output_type": "display_data"
    }
   ],
   "source": [
    "store_x = range(1, 20)\n",
    "store_y = [8451, 8472, 8529, 8575, 8565, 8587, 8560, 8545, 8540, 8533, 8522, 8507, 8500, 8492, 8477, 8491, 8476, 8467, 8455]\n",
    "plt.plot(store_x, store_y)\n",
    "plt.axis([0, 20, 8425, 8600])\n",
    "plt.title(\"Accuracy vs No. of Nearest Neighbors\")\n",
    "plt.show()"
   ]
  },
  {
   "cell_type": "code",
   "execution_count": null,
   "metadata": {
    "collapsed": true
   },
   "outputs": [],
   "source": []
  }
 ],
 "metadata": {
  "kernelspec": {
   "display_name": "Python 2",
   "language": "python",
   "name": "python2"
  },
  "language_info": {
   "codemirror_mode": {
    "name": "ipython",
    "version": 2
   },
   "file_extension": ".py",
   "mimetype": "text/x-python",
   "name": "python",
   "nbconvert_exporter": "python",
   "pygments_lexer": "ipython2",
   "version": "2.7.14"
  }
 },
 "nbformat": 4,
 "nbformat_minor": 2
}
